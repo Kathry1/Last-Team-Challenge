{
 "cells": [
  {
   "cell_type": "code",
   "execution_count": 3,
   "id": "532e75b1",
   "metadata": {},
   "outputs": [],
   "source": [
    "from sklearn.linear_model import LogisticRegression\n",
    "from sklearn.datasets import load_iris\n",
    "import pickle\n",
    "\n",
    "X, y = load_iris(return_X_y=True)\n",
    "model = LogisticRegression(max_iter=200)\n",
    "model.fit(X, y)\n",
    "\n",
    "with open(\"model.pkl\", \"wb\") as f:\n",
    "    pickle.dump(model, f)\n"
   ]
  },
  {
   "cell_type": "code",
   "execution_count": 4,
   "id": "c727b41b",
   "metadata": {},
   "outputs": [],
   "source": [
    "from fastapi import FastAPI\n",
    "from pydantic import BaseModel\n",
    "import pickle\n",
    "import numpy as np\n",
    "\n",
    "# Modell laden\n",
    "with open(\"model.pkl\", \"rb\") as f:\n",
    "    model = pickle.load(f)\n",
    "\n",
    "app = FastAPI()\n",
    "\n",
    "class IrisFeatures(BaseModel):\n",
    "    features: list\n",
    "\n",
    "@app.get(\"/\")\n",
    "def read_root():\n",
    "    return {\n",
    "        \"message\": \"Willkommen zur Iris-ML-API!\",\n",
    "        \"usage\": \"POST /predict mit JSON {'features': [5.1, 3.5, 1.4, 0.2]}\"\n",
    "    }\n",
    "\n",
    "@app.post(\"/predict\")\n",
    "def predict(data: IrisFeatures):\n",
    "    prediction = model.predict([np.array(data.features)])\n",
    "    return {\"prediction\": int(prediction[0])}\n",
    "\n",
    "# Vorbereiteter dritter Endpunkt\n",
    "# @app.get(\"/status\")\n",
    "# def model_status():\n",
    "#     return {\"model\": \"ready\", \"version\": \"1.0\"}\n"
   ]
  }
 ],
 "metadata": {
  "kernelspec": {
   "display_name": "base",
   "language": "python",
   "name": "python3"
  },
  "language_info": {
   "codemirror_mode": {
    "name": "ipython",
    "version": 3
   },
   "file_extension": ".py",
   "mimetype": "text/x-python",
   "name": "python",
   "nbconvert_exporter": "python",
   "pygments_lexer": "ipython3",
   "version": "3.12.7"
  }
 },
 "nbformat": 4,
 "nbformat_minor": 5
}
